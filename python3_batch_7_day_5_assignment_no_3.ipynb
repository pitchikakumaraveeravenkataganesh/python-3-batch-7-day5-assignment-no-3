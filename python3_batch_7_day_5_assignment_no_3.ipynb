{
  "nbformat": 4,
  "nbformat_minor": 0,
  "metadata": {
    "colab": {
      "name": "python3 batch 7 day 5 assignment no 3",
      "provenance": [],
      "collapsed_sections": [],
      "authorship_tag": "ABX9TyMimaHnNZhgOckuzMb43Hf8",
      "include_colab_link": true
    },
    "kernelspec": {
      "name": "python3",
      "display_name": "Python 3"
    }
  },
  "cells": [
    {
      "cell_type": "markdown",
      "metadata": {
        "id": "view-in-github",
        "colab_type": "text"
      },
      "source": [
        "<a href=\"https://colab.research.google.com/github/pitchikakumaraveeravenkataganesh/python-3-batch-7-day5-assignment-no-3/blob/master/python3_batch_7_day_5_assignment_no_3.ipynb\" target=\"_parent\"><img src=\"https://colab.research.google.com/assets/colab-badge.svg\" alt=\"Open In Colab\"/></a>"
      ]
    },
    {
      "cell_type": "code",
      "metadata": {
        "id": "RkwgtA7r9Nhv",
        "colab_type": "code",
        "colab": {}
      },
      "source": [
        "#make a lambda function for capltalizing the whole sentence passed arguments"
      ],
      "execution_count": null,
      "outputs": []
    },
    {
      "cell_type": "code",
      "metadata": {
        "id": "gDVBEhGM9g-6",
        "colab_type": "code",
        "colab": {}
      },
      "source": [
        ""
      ],
      "execution_count": null,
      "outputs": []
    },
    {
      "cell_type": "code",
      "metadata": {
        "id": "cjwfXAT59hme",
        "colab_type": "code",
        "colab": {
          "base_uri": "https://localhost:8080/",
          "height": 34
        },
        "outputId": "827ac958-1a38-4767-ed7d-cf8b02f37594"
      },
      "source": [
        "strings=[\"i\",\"am\",\"learning\",\"python\",\"by\",\"letsupgrade\"]\n",
        "cap=map(lambda x: str.upper(x),strings)\n",
        "list(cap)\n"
      ],
      "execution_count": 3,
      "outputs": [
        {
          "output_type": "execute_result",
          "data": {
            "text/plain": [
              "['I', 'AM', 'LEARNING', 'PYTHON', 'BY', 'LETSUPGRADE']"
            ]
          },
          "metadata": {
            "tags": []
          },
          "execution_count": 3
        }
      ]
    }
  ]
}